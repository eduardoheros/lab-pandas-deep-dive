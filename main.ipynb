{
  "nbformat": 4,
  "nbformat_minor": 0,
  "metadata": {
    "kernelspec": {
      "display_name": "Python 3",
      "language": "python",
      "name": "python3"
    },
    "language_info": {
      "codemirror_mode": {
        "name": "ipython",
        "version": 3
      },
      "file_extension": ".py",
      "mimetype": "text/x-python",
      "name": "python",
      "nbconvert_exporter": "python",
      "pygments_lexer": "ipython3",
      "version": "3.7.0"
    },
    "colab": {
      "name": "main.ipynb",
      "provenance": [],
      "include_colab_link": true
    }
  },
  "cells": [
    {
      "cell_type": "markdown",
      "metadata": {
        "id": "view-in-github",
        "colab_type": "text"
      },
      "source": [
        "<a href=\"https://colab.research.google.com/github/eduardoheros/lab-pandas-deep-dive/blob/master/main.ipynb\" target=\"_parent\"><img src=\"https://colab.research.google.com/assets/colab-badge.svg\" alt=\"Open In Colab\"/></a>"
      ]
    },
    {
      "cell_type": "markdown",
      "metadata": {
        "id": "SIQtmupDwHdl",
        "colab_type": "text"
      },
      "source": [
        "# Lab | Pandas Deep-Dive"
      ]
    },
    {
      "cell_type": "markdown",
      "metadata": {
        "id": "A4K0HRCSwHdn",
        "colab_type": "text"
      },
      "source": [
        "### 1. Import Pandas package under the alias pd and Numpy under the alias np"
      ]
    },
    {
      "cell_type": "code",
      "metadata": {
        "id": "2OC413W1wHdo",
        "colab_type": "code",
        "colab": {}
      },
      "source": [
        "import pandas as pd\n",
        "import numpy as np"
      ],
      "execution_count": 0,
      "outputs": []
    },
    {
      "cell_type": "markdown",
      "metadata": {
        "id": "zhmf1hc4wHdu",
        "colab_type": "text"
      },
      "source": [
        "### 2. Define a variable called `path` that contains the path to the csv file you downloaded. "
      ]
    },
    {
      "cell_type": "code",
      "metadata": {
        "id": "JSvfOYDowHdv",
        "colab_type": "code",
        "colab": {}
      },
      "source": [
        "data=\"https://raw.githubusercontent.com/eduardoheros/lab-pandas-deep-dive/master/data/apple_store.csv\""
      ],
      "execution_count": 0,
      "outputs": []
    },
    {
      "cell_type": "markdown",
      "metadata": {
        "id": "_t-gmfJ9wHd0",
        "colab_type": "text"
      },
      "source": [
        "### 3. Using the Pandas `read_csv()` method, import the csv file at the path above. \n",
        "\n",
        "Assign the returned value to a variable called `data`.\n",
        "\n",
        "Note: you can omit the `sep` parameter for `read_csv()` because the csv file uses the default separator of \",\"."
      ]
    },
    {
      "cell_type": "code",
      "metadata": {
        "id": "kPpkzbozwHd1",
        "colab_type": "code",
        "colab": {}
      },
      "source": [
        "data=pd.read_csv(data)"
      ],
      "execution_count": 0,
      "outputs": []
    },
    {
      "cell_type": "markdown",
      "metadata": {
        "id": "OHnEAMnawHd6",
        "colab_type": "text"
      },
      "source": [
        "### 4. Print the first 5 rows of `data` to see what the data look like.\n",
        "\n",
        "A data analyst usually does this to have a general understanding about what the data look like before digging deep."
      ]
    },
    {
      "cell_type": "code",
      "metadata": {
        "id": "x1JZd6P_wHd6",
        "colab_type": "code",
        "outputId": "a10591de-3fb2-48c9-d41e-fd21a11daf30",
        "colab": {
          "base_uri": "https://localhost:8080/",
          "height": 204
        }
      },
      "source": [
        "data.head()"
      ],
      "execution_count": 4,
      "outputs": [
        {
          "output_type": "execute_result",
          "data": {
            "text/html": [
              "<div>\n",
              "<style scoped>\n",
              "    .dataframe tbody tr th:only-of-type {\n",
              "        vertical-align: middle;\n",
              "    }\n",
              "\n",
              "    .dataframe tbody tr th {\n",
              "        vertical-align: top;\n",
              "    }\n",
              "\n",
              "    .dataframe thead th {\n",
              "        text-align: right;\n",
              "    }\n",
              "</style>\n",
              "<table border=\"1\" class=\"dataframe\">\n",
              "  <thead>\n",
              "    <tr style=\"text-align: right;\">\n",
              "      <th></th>\n",
              "      <th>id</th>\n",
              "      <th>track_name</th>\n",
              "      <th>size_bytes</th>\n",
              "      <th>price</th>\n",
              "      <th>rating_count_tot</th>\n",
              "      <th>rating_count_ver</th>\n",
              "      <th>user_rating</th>\n",
              "      <th>user_rating_ver</th>\n",
              "      <th>prime_genre</th>\n",
              "    </tr>\n",
              "  </thead>\n",
              "  <tbody>\n",
              "    <tr>\n",
              "      <th>0</th>\n",
              "      <td>281656475</td>\n",
              "      <td>PAC-MAN Premium</td>\n",
              "      <td>100788224</td>\n",
              "      <td>3.99</td>\n",
              "      <td>21292</td>\n",
              "      <td>26</td>\n",
              "      <td>4.0</td>\n",
              "      <td>4.5</td>\n",
              "      <td>Games</td>\n",
              "    </tr>\n",
              "    <tr>\n",
              "      <th>1</th>\n",
              "      <td>281796108</td>\n",
              "      <td>Evernote - stay organized</td>\n",
              "      <td>158578688</td>\n",
              "      <td>0.00</td>\n",
              "      <td>161065</td>\n",
              "      <td>26</td>\n",
              "      <td>4.0</td>\n",
              "      <td>3.5</td>\n",
              "      <td>Productivity</td>\n",
              "    </tr>\n",
              "    <tr>\n",
              "      <th>2</th>\n",
              "      <td>281940292</td>\n",
              "      <td>WeatherBug - Local Weather, Radar, Maps, Alerts</td>\n",
              "      <td>100524032</td>\n",
              "      <td>0.00</td>\n",
              "      <td>188583</td>\n",
              "      <td>2822</td>\n",
              "      <td>3.5</td>\n",
              "      <td>4.5</td>\n",
              "      <td>Weather</td>\n",
              "    </tr>\n",
              "    <tr>\n",
              "      <th>3</th>\n",
              "      <td>282614216</td>\n",
              "      <td>eBay: Best App to Buy, Sell, Save! Online Shop...</td>\n",
              "      <td>128512000</td>\n",
              "      <td>0.00</td>\n",
              "      <td>262241</td>\n",
              "      <td>649</td>\n",
              "      <td>4.0</td>\n",
              "      <td>4.5</td>\n",
              "      <td>Shopping</td>\n",
              "    </tr>\n",
              "    <tr>\n",
              "      <th>4</th>\n",
              "      <td>282935706</td>\n",
              "      <td>Bible</td>\n",
              "      <td>92774400</td>\n",
              "      <td>0.00</td>\n",
              "      <td>985920</td>\n",
              "      <td>5320</td>\n",
              "      <td>4.5</td>\n",
              "      <td>5.0</td>\n",
              "      <td>Reference</td>\n",
              "    </tr>\n",
              "  </tbody>\n",
              "</table>\n",
              "</div>"
            ],
            "text/plain": [
              "          id  ...   prime_genre\n",
              "0  281656475  ...         Games\n",
              "1  281796108  ...  Productivity\n",
              "2  281940292  ...       Weather\n",
              "3  282614216  ...      Shopping\n",
              "4  282935706  ...     Reference\n",
              "\n",
              "[5 rows x 9 columns]"
            ]
          },
          "metadata": {
            "tags": []
          },
          "execution_count": 4
        }
      ]
    },
    {
      "cell_type": "markdown",
      "metadata": {
        "id": "F6W2fh64wHd-",
        "colab_type": "text"
      },
      "source": [
        "### 5. Print the summary (info) of the data."
      ]
    },
    {
      "cell_type": "code",
      "metadata": {
        "id": "gitSCdHawHd-",
        "colab_type": "code",
        "outputId": "98c9c986-547d-4aec-a5c7-14b207ef7f1f",
        "colab": {
          "base_uri": "https://localhost:8080/",
          "height": 289
        }
      },
      "source": [
        "data.info()"
      ],
      "execution_count": 5,
      "outputs": [
        {
          "output_type": "stream",
          "text": [
            "<class 'pandas.core.frame.DataFrame'>\n",
            "RangeIndex: 7197 entries, 0 to 7196\n",
            "Data columns (total 9 columns):\n",
            " #   Column            Non-Null Count  Dtype  \n",
            "---  ------            --------------  -----  \n",
            " 0   id                7197 non-null   int64  \n",
            " 1   track_name        7197 non-null   object \n",
            " 2   size_bytes        7197 non-null   int64  \n",
            " 3   price             7197 non-null   float64\n",
            " 4   rating_count_tot  7197 non-null   int64  \n",
            " 5   rating_count_ver  7197 non-null   int64  \n",
            " 6   user_rating       7197 non-null   float64\n",
            " 7   user_rating_ver   7197 non-null   float64\n",
            " 8   prime_genre       7197 non-null   object \n",
            "dtypes: float64(3), int64(4), object(2)\n",
            "memory usage: 506.2+ KB\n"
          ],
          "name": "stdout"
        }
      ]
    },
    {
      "cell_type": "markdown",
      "metadata": {
        "id": "RCfs3qW2wHeC",
        "colab_type": "text"
      },
      "source": [
        "### 6. Print the number of columns in the data."
      ]
    },
    {
      "cell_type": "code",
      "metadata": {
        "id": "HU2eVcjywHeC",
        "colab_type": "code",
        "outputId": "1d58c1b6-40a1-4e6e-841a-ef4e3f64b201",
        "colab": {
          "base_uri": "https://localhost:8080/",
          "height": 34
        }
      },
      "source": [
        "len(data.columns)"
      ],
      "execution_count": 6,
      "outputs": [
        {
          "output_type": "execute_result",
          "data": {
            "text/plain": [
              "9"
            ]
          },
          "metadata": {
            "tags": []
          },
          "execution_count": 6
        }
      ]
    },
    {
      "cell_type": "markdown",
      "metadata": {
        "id": "B9zVm-HSwHeI",
        "colab_type": "text"
      },
      "source": [
        "### 7. Print all column names."
      ]
    },
    {
      "cell_type": "code",
      "metadata": {
        "id": "bqMLf4hywHeJ",
        "colab_type": "code",
        "outputId": "68ec87cc-2ce4-446f-e702-faa1606f248b",
        "colab": {
          "base_uri": "https://localhost:8080/",
          "height": 68
        }
      },
      "source": [
        "data.columns"
      ],
      "execution_count": 7,
      "outputs": [
        {
          "output_type": "execute_result",
          "data": {
            "text/plain": [
              "Index(['id', 'track_name', 'size_bytes', 'price', 'rating_count_tot',\n",
              "       'rating_count_ver', 'user_rating', 'user_rating_ver', 'prime_genre'],\n",
              "      dtype='object')"
            ]
          },
          "metadata": {
            "tags": []
          },
          "execution_count": 7
        }
      ]
    },
    {
      "cell_type": "markdown",
      "metadata": {
        "id": "4RbPDw62wHeL",
        "colab_type": "text"
      },
      "source": [
        "## Now that we have a general understanding of the data, we'll start working on the challenge questions.\n",
        "\n",
        "### 8. How many apps are there in the data source? \n",
        "\n",
        "Print the # of observations of the data.\n",
        "\n",
        "*Hint: Your code should return the number 7197.*"
      ]
    },
    {
      "cell_type": "code",
      "metadata": {
        "id": "0H5dJdsDwHeM",
        "colab_type": "code",
        "colab": {
          "base_uri": "https://localhost:8080/",
          "height": 34
        },
        "outputId": "a7636fd2-51e7-48c0-cf5c-aff94b1a5207"
      },
      "source": [
        "len(data.id.unique())"
      ],
      "execution_count": 20,
      "outputs": [
        {
          "output_type": "execute_result",
          "data": {
            "text/plain": [
              "7197"
            ]
          },
          "metadata": {
            "tags": []
          },
          "execution_count": 20
        }
      ]
    },
    {
      "cell_type": "markdown",
      "metadata": {
        "id": "ouD0AKCDwHeQ",
        "colab_type": "text"
      },
      "source": [
        "### 9. What is the average rating of all apps? \n",
        "\n",
        "First, read the `user_rating` column into a varialbe named `user_rating`."
      ]
    },
    {
      "cell_type": "code",
      "metadata": {
        "id": "gqo6fJqFwHeQ",
        "colab_type": "code",
        "colab": {
          "base_uri": "https://localhost:8080/",
          "height": 221
        },
        "outputId": "e2bc6d37-5908-412e-f153-53a114597d4b"
      },
      "source": [
        "data.user_rating"
      ],
      "execution_count": 23,
      "outputs": [
        {
          "output_type": "execute_result",
          "data": {
            "text/plain": [
              "0       4.0\n",
              "1       4.0\n",
              "2       3.5\n",
              "3       4.0\n",
              "4       4.5\n",
              "       ... \n",
              "7192    4.5\n",
              "7193    4.5\n",
              "7194    4.5\n",
              "7195    4.5\n",
              "7196    5.0\n",
              "Name: user_rating, Length: 7197, dtype: float64"
            ]
          },
          "metadata": {
            "tags": []
          },
          "execution_count": 23
        }
      ]
    },
    {
      "cell_type": "markdown",
      "metadata": {
        "id": "_Qc0JxufwHeT",
        "colab_type": "text"
      },
      "source": [
        "Now you can calculate the average of the `user_rating` data.\n",
        "\n",
        "Your code should return 3.526955675976101"
      ]
    },
    {
      "cell_type": "code",
      "metadata": {
        "id": "Tcx2VpiXwHeU",
        "colab_type": "code",
        "colab": {
          "base_uri": "https://localhost:8080/",
          "height": 34
        },
        "outputId": "a8842a85-d1cb-47fe-93c7-f5ab792de726"
      },
      "source": [
        "data.user_rating.mean()"
      ],
      "execution_count": 24,
      "outputs": [
        {
          "output_type": "execute_result",
          "data": {
            "text/plain": [
              "3.526955675976101"
            ]
          },
          "metadata": {
            "tags": []
          },
          "execution_count": 24
        }
      ]
    },
    {
      "cell_type": "markdown",
      "metadata": {
        "id": "DPO8A9fEwHeX",
        "colab_type": "text"
      },
      "source": [
        "### 10. How many apps have an average rating no less than 4?\n",
        "\n",
        "First, filter `user_rating` where its value >= 4. \n",
        "\n",
        "Assign the filtered dataframe to a new variable called `user_rating_high`."
      ]
    },
    {
      "cell_type": "code",
      "metadata": {
        "id": "F5_FeDvNwHeY",
        "colab_type": "code",
        "colab": {}
      },
      "source": [
        "user_rating_high=len(data[data.user_rating>=4])"
      ],
      "execution_count": 0,
      "outputs": []
    },
    {
      "cell_type": "markdown",
      "metadata": {
        "id": "bv8iqqDDwHeb",
        "colab_type": "text"
      },
      "source": [
        "Now obtain the length of `user_rating_high` which should return 4781."
      ]
    },
    {
      "cell_type": "code",
      "metadata": {
        "id": "iPFxEHd-wHec",
        "colab_type": "code",
        "colab": {
          "base_uri": "https://localhost:8080/",
          "height": 34
        },
        "outputId": "48a4599c-cba2-44f9-d9c4-78dc1534572e"
      },
      "source": [
        "user_rating_high"
      ],
      "execution_count": 28,
      "outputs": [
        {
          "output_type": "execute_result",
          "data": {
            "text/plain": [
              "4781"
            ]
          },
          "metadata": {
            "tags": []
          },
          "execution_count": 28
        }
      ]
    },
    {
      "cell_type": "markdown",
      "metadata": {
        "id": "Mrv_qOXMwHee",
        "colab_type": "text"
      },
      "source": [
        "### 11. How many genres are there in total for all the apps?\n",
        "\n",
        "Define a new variable named `genres` that contains the `prime_genre` column of `data`. Google for how to obtain unique values of a dataframe column. "
      ]
    },
    {
      "cell_type": "code",
      "metadata": {
        "id": "S9dfqg67wHef",
        "colab_type": "code",
        "colab": {}
      },
      "source": [
        "genres=data.prime_genre.unique()"
      ],
      "execution_count": 0,
      "outputs": []
    },
    {
      "cell_type": "markdown",
      "metadata": {
        "id": "4xR1LGrgwHei",
        "colab_type": "text"
      },
      "source": [
        "Print the length of the unique values of `genres`. Your code should return 23."
      ]
    },
    {
      "cell_type": "code",
      "metadata": {
        "id": "vINl5aT8wHei",
        "colab_type": "code",
        "colab": {
          "base_uri": "https://localhost:8080/",
          "height": 34
        },
        "outputId": "9418b052-e9e1-4406-c8aa-5849222d148b"
      },
      "source": [
        "len(genres)"
      ],
      "execution_count": 32,
      "outputs": [
        {
          "output_type": "execute_result",
          "data": {
            "text/plain": [
              "23"
            ]
          },
          "metadata": {
            "tags": []
          },
          "execution_count": 32
        }
      ]
    },
    {
      "cell_type": "markdown",
      "metadata": {
        "id": "R78vp9DAwHep",
        "colab_type": "text"
      },
      "source": [
        "### 12. What are the top 3 genres that have the most number of apps?\n",
        "\n",
        "What you want to do is to count the number of occurrences of each unique genre values. Because you already know how to obtain the unique genre values, you can of course count the # of apps of each genre one by one. However, Pandas has a convient function to let you count all values of a dataframe column with a single command. Google for \"pandas count values\" to find the solution. Your code should return the following:\n",
        "\n",
        "```\n",
        "Games            3862\n",
        "Entertainment     535\n",
        "Education         453\n",
        "Name: prime_genre, dtype: int64\n",
        "```"
      ]
    },
    {
      "cell_type": "code",
      "metadata": {
        "id": "F-4oA1zZwHeq",
        "colab_type": "code",
        "colab": {
          "base_uri": "https://localhost:8080/",
          "height": 85
        },
        "outputId": "1cf91e06-5c60-4f90-ab45-7700b3642bf6"
      },
      "source": [
        "total_genre=data.prime_genre.value_counts()\n",
        "total_genre[0:3]"
      ],
      "execution_count": 47,
      "outputs": [
        {
          "output_type": "execute_result",
          "data": {
            "text/plain": [
              "Games            3862\n",
              "Entertainment     535\n",
              "Education         453\n",
              "Name: prime_genre, dtype: int64"
            ]
          },
          "metadata": {
            "tags": []
          },
          "execution_count": 47
        }
      ]
    },
    {
      "cell_type": "markdown",
      "metadata": {
        "id": "zyB524ffwHet",
        "colab_type": "text"
      },
      "source": [
        "### 13. Which genre is most likely to contain free apps?\n",
        "\n",
        "First, filter `data` where the price is 0.00. Assign the filtered data to a new variable called `free_apps`. Then count the values in `free_apps`. Your code should return:\n",
        "\n",
        "```\n",
        "Games                2257\n",
        "Entertainment         334\n",
        "Photo & Video         167\n",
        "Social Networking     143\n",
        "Education             132\n",
        "Shopping              121\n",
        "Utilities             109\n",
        "Lifestyle              94\n",
        "Finance                84\n",
        "Sports                 79\n",
        "Health & Fitness       76\n",
        "Music                  67\n",
        "Book                   66\n",
        "Productivity           62\n",
        "News                   58\n",
        "Travel                 56\n",
        "Food & Drink           43\n",
        "Weather                31\n",
        "Navigation             20\n",
        "Reference              20\n",
        "Business               20\n",
        "Catalogs                9\n",
        "Medical                 8\n",
        "Name: prime_genre, dtype: int64\n",
        "```"
      ]
    },
    {
      "cell_type": "code",
      "metadata": {
        "id": "u-QyATyGwHeu",
        "colab_type": "code",
        "colab": {
          "base_uri": "https://localhost:8080/",
          "height": 85
        },
        "outputId": "b15afa66-1ccc-4f77-8b58-621a794a24ba"
      },
      "source": [
        "free_genre=data[data.price==0].prime_genre.value_counts()\n",
        "free_genre[0:3]"
      ],
      "execution_count": 45,
      "outputs": [
        {
          "output_type": "execute_result",
          "data": {
            "text/plain": [
              "Games            2257\n",
              "Entertainment     334\n",
              "Photo & Video     167\n",
              "Name: prime_genre, dtype: int64"
            ]
          },
          "metadata": {
            "tags": []
          },
          "execution_count": 45
        }
      ]
    },
    {
      "cell_type": "markdown",
      "metadata": {
        "id": "9dBT8SmSwHex",
        "colab_type": "text"
      },
      "source": [
        "### 14. Now you can calculate the proportion of the free apps in each genre based on the value counts you obtained in the previous two steps. \n",
        "\n",
        "Challenge yourself by achieving that with one line of code. The output should look like:\n",
        "\n",
        "```\n",
        "Shopping             0.991803\n",
        "Catalogs             0.900000\n",
        "Social Networking    0.856287\n",
        "Finance              0.807692\n",
        "News                 0.773333\n",
        "Sports               0.692982\n",
        "Travel               0.691358\n",
        "Food & Drink         0.682540\n",
        "Lifestyle            0.652778\n",
        "Entertainment        0.624299\n",
        "Book                 0.589286\n",
        "Games                0.584412\n",
        "Music                0.485507\n",
        "Photo & Video        0.478510\n",
        "Utilities            0.439516\n",
        "Navigation           0.434783\n",
        "Weather              0.430556\n",
        "Health & Fitness     0.422222\n",
        "Business             0.350877\n",
        "Productivity         0.348315\n",
        "Medical              0.347826\n",
        "Reference            0.312500\n",
        "Education            0.291391\n",
        "Name: prime_genre, dtype: float64\n",
        "```\n",
        "\n",
        "The numbers are interesting, aren't they?"
      ]
    },
    {
      "cell_type": "code",
      "metadata": {
        "id": "rcAEQpONwHey",
        "colab_type": "code",
        "colab": {
          "base_uri": "https://localhost:8080/",
          "height": 762
        },
        "outputId": "fbee5fbe-badf-4159-936b-0f1a0877714c"
      },
      "source": [
        "compare_price_genre=pd.concat([total_genre,free_genre],join=\"inner\",ignore_index=True,axis=1)\n",
        "compare_price_genre[\"Proportion_free_apps\"]=compare_price_genre.iloc[:,1]/compare_price_genre.iloc[:,0]\n",
        "compare_price_genre.sort_values(by=[\"Proportion_free_apps\"],ascending=False)"
      ],
      "execution_count": 75,
      "outputs": [
        {
          "output_type": "execute_result",
          "data": {
            "text/html": [
              "<div>\n",
              "<style scoped>\n",
              "    .dataframe tbody tr th:only-of-type {\n",
              "        vertical-align: middle;\n",
              "    }\n",
              "\n",
              "    .dataframe tbody tr th {\n",
              "        vertical-align: top;\n",
              "    }\n",
              "\n",
              "    .dataframe thead th {\n",
              "        text-align: right;\n",
              "    }\n",
              "</style>\n",
              "<table border=\"1\" class=\"dataframe\">\n",
              "  <thead>\n",
              "    <tr style=\"text-align: right;\">\n",
              "      <th></th>\n",
              "      <th>0</th>\n",
              "      <th>1</th>\n",
              "      <th>Proportion_free_apps</th>\n",
              "    </tr>\n",
              "  </thead>\n",
              "  <tbody>\n",
              "    <tr>\n",
              "      <th>Shopping</th>\n",
              "      <td>122</td>\n",
              "      <td>121</td>\n",
              "      <td>0.991803</td>\n",
              "    </tr>\n",
              "    <tr>\n",
              "      <th>Catalogs</th>\n",
              "      <td>10</td>\n",
              "      <td>9</td>\n",
              "      <td>0.900000</td>\n",
              "    </tr>\n",
              "    <tr>\n",
              "      <th>Social Networking</th>\n",
              "      <td>167</td>\n",
              "      <td>143</td>\n",
              "      <td>0.856287</td>\n",
              "    </tr>\n",
              "    <tr>\n",
              "      <th>Finance</th>\n",
              "      <td>104</td>\n",
              "      <td>84</td>\n",
              "      <td>0.807692</td>\n",
              "    </tr>\n",
              "    <tr>\n",
              "      <th>News</th>\n",
              "      <td>75</td>\n",
              "      <td>58</td>\n",
              "      <td>0.773333</td>\n",
              "    </tr>\n",
              "    <tr>\n",
              "      <th>Sports</th>\n",
              "      <td>114</td>\n",
              "      <td>79</td>\n",
              "      <td>0.692982</td>\n",
              "    </tr>\n",
              "    <tr>\n",
              "      <th>Travel</th>\n",
              "      <td>81</td>\n",
              "      <td>56</td>\n",
              "      <td>0.691358</td>\n",
              "    </tr>\n",
              "    <tr>\n",
              "      <th>Food &amp; Drink</th>\n",
              "      <td>63</td>\n",
              "      <td>43</td>\n",
              "      <td>0.682540</td>\n",
              "    </tr>\n",
              "    <tr>\n",
              "      <th>Lifestyle</th>\n",
              "      <td>144</td>\n",
              "      <td>94</td>\n",
              "      <td>0.652778</td>\n",
              "    </tr>\n",
              "    <tr>\n",
              "      <th>Entertainment</th>\n",
              "      <td>535</td>\n",
              "      <td>334</td>\n",
              "      <td>0.624299</td>\n",
              "    </tr>\n",
              "    <tr>\n",
              "      <th>Book</th>\n",
              "      <td>112</td>\n",
              "      <td>66</td>\n",
              "      <td>0.589286</td>\n",
              "    </tr>\n",
              "    <tr>\n",
              "      <th>Games</th>\n",
              "      <td>3862</td>\n",
              "      <td>2257</td>\n",
              "      <td>0.584412</td>\n",
              "    </tr>\n",
              "    <tr>\n",
              "      <th>Music</th>\n",
              "      <td>138</td>\n",
              "      <td>67</td>\n",
              "      <td>0.485507</td>\n",
              "    </tr>\n",
              "    <tr>\n",
              "      <th>Photo &amp; Video</th>\n",
              "      <td>349</td>\n",
              "      <td>167</td>\n",
              "      <td>0.478510</td>\n",
              "    </tr>\n",
              "    <tr>\n",
              "      <th>Utilities</th>\n",
              "      <td>248</td>\n",
              "      <td>109</td>\n",
              "      <td>0.439516</td>\n",
              "    </tr>\n",
              "    <tr>\n",
              "      <th>Navigation</th>\n",
              "      <td>46</td>\n",
              "      <td>20</td>\n",
              "      <td>0.434783</td>\n",
              "    </tr>\n",
              "    <tr>\n",
              "      <th>Weather</th>\n",
              "      <td>72</td>\n",
              "      <td>31</td>\n",
              "      <td>0.430556</td>\n",
              "    </tr>\n",
              "    <tr>\n",
              "      <th>Health &amp; Fitness</th>\n",
              "      <td>180</td>\n",
              "      <td>76</td>\n",
              "      <td>0.422222</td>\n",
              "    </tr>\n",
              "    <tr>\n",
              "      <th>Business</th>\n",
              "      <td>57</td>\n",
              "      <td>20</td>\n",
              "      <td>0.350877</td>\n",
              "    </tr>\n",
              "    <tr>\n",
              "      <th>Productivity</th>\n",
              "      <td>178</td>\n",
              "      <td>62</td>\n",
              "      <td>0.348315</td>\n",
              "    </tr>\n",
              "    <tr>\n",
              "      <th>Medical</th>\n",
              "      <td>23</td>\n",
              "      <td>8</td>\n",
              "      <td>0.347826</td>\n",
              "    </tr>\n",
              "    <tr>\n",
              "      <th>Reference</th>\n",
              "      <td>64</td>\n",
              "      <td>20</td>\n",
              "      <td>0.312500</td>\n",
              "    </tr>\n",
              "    <tr>\n",
              "      <th>Education</th>\n",
              "      <td>453</td>\n",
              "      <td>132</td>\n",
              "      <td>0.291391</td>\n",
              "    </tr>\n",
              "  </tbody>\n",
              "</table>\n",
              "</div>"
            ],
            "text/plain": [
              "                      0     1  Proportion_free_apps\n",
              "Shopping            122   121              0.991803\n",
              "Catalogs             10     9              0.900000\n",
              "Social Networking   167   143              0.856287\n",
              "Finance             104    84              0.807692\n",
              "News                 75    58              0.773333\n",
              "Sports              114    79              0.692982\n",
              "Travel               81    56              0.691358\n",
              "Food & Drink         63    43              0.682540\n",
              "Lifestyle           144    94              0.652778\n",
              "Entertainment       535   334              0.624299\n",
              "Book                112    66              0.589286\n",
              "Games              3862  2257              0.584412\n",
              "Music               138    67              0.485507\n",
              "Photo & Video       349   167              0.478510\n",
              "Utilities           248   109              0.439516\n",
              "Navigation           46    20              0.434783\n",
              "Weather              72    31              0.430556\n",
              "Health & Fitness    180    76              0.422222\n",
              "Business             57    20              0.350877\n",
              "Productivity        178    62              0.348315\n",
              "Medical              23     8              0.347826\n",
              "Reference            64    20              0.312500\n",
              "Education           453   132              0.291391"
            ]
          },
          "metadata": {
            "tags": []
          },
          "execution_count": 75
        }
      ]
    },
    {
      "cell_type": "markdown",
      "metadata": {
        "id": "qoxuRydHwHe0",
        "colab_type": "text"
      },
      "source": [
        "### 15. If a developer tries to make money by developing and selling Apple Store apps, in which genre should s/he develop the apps? Please assume all apps cost the same amount of time and expense to develop.\n",
        "\n",
        "We will leave this question to you. There are several way to solve it. Ideally your output should look like below:\n",
        "\n",
        "```\n",
        "    average_price              genre\n",
        "21       8.776087            Medical\n",
        "11       5.116316           Business\n",
        "4        4.836875          Reference\n",
        "6        4.835435              Music\n",
        "1        4.330562       Productivity\n",
        "15       4.124783         Navigation\n",
        "16       4.028234          Education\n",
        "12       1.916444   Health & Fitness\n",
        "20       1.790536               Book\n",
        "7        1.647621          Utilities\n",
        "2        1.605417            Weather\n",
        "18       1.552381       Food & Drink\n",
        "14       1.473295      Photo & Video\n",
        "0        1.432923              Games\n",
        "8        1.120370             Travel\n",
        "10       0.953070             Sports\n",
        "13       0.889701      Entertainment\n",
        "17       0.885417          Lifestyle\n",
        "22       0.799000           Catalogs\n",
        "19       0.517733               News\n",
        "5        0.421154            Finance\n",
        "9        0.339880  Social Networking\n",
        "3        0.016311           Shopping\n",
        "```"
      ]
    },
    {
      "cell_type": "code",
      "metadata": {
        "id": "rrJ_dCJuwHe1",
        "colab_type": "code",
        "colab": {
          "base_uri": "https://localhost:8080/",
          "height": 442
        },
        "outputId": "3c00da78-389c-4c18-9a07-a70ed22e4841"
      },
      "source": [
        "av_price_genre=data.groupby(\"prime_genre\")[\"price\"].mean()\n",
        "av_price_genre.sort_values(ascending=False)"
      ],
      "execution_count": 74,
      "outputs": [
        {
          "output_type": "execute_result",
          "data": {
            "text/plain": [
              "prime_genre\n",
              "Medical              8.776087\n",
              "Business             5.116316\n",
              "Reference            4.836875\n",
              "Music                4.835435\n",
              "Productivity         4.330562\n",
              "Navigation           4.124783\n",
              "Education            4.028234\n",
              "Health & Fitness     1.916444\n",
              "Book                 1.790536\n",
              "Utilities            1.647621\n",
              "Weather              1.605417\n",
              "Food & Drink         1.552381\n",
              "Photo & Video        1.473295\n",
              "Games                1.432923\n",
              "Travel               1.120370\n",
              "Sports               0.953070\n",
              "Entertainment        0.889701\n",
              "Lifestyle            0.885417\n",
              "Catalogs             0.799000\n",
              "News                 0.517733\n",
              "Finance              0.421154\n",
              "Social Networking    0.339880\n",
              "Shopping             0.016311\n",
              "Name: price, dtype: float64"
            ]
          },
          "metadata": {
            "tags": []
          },
          "execution_count": 74
        }
      ]
    },
    {
      "cell_type": "code",
      "metadata": {
        "id": "KMcXwGZIAy1y",
        "colab_type": "code",
        "colab": {}
      },
      "source": [
        "av_price_proportion=pd.concat([av_price_genre,compare_price_genre],join=\"inner\",ignore_index=\"True\",axis=1)"
      ],
      "execution_count": 0,
      "outputs": []
    },
    {
      "cell_type": "code",
      "metadata": {
        "id": "IhB0Jd2IFpXX",
        "colab_type": "code",
        "colab": {}
      },
      "source": [
        "av_price_proportion.columns=[\"AV_Price\",\"Paid\",\"Free\",\"Proportion_free_paid\"]"
      ],
      "execution_count": 0,
      "outputs": []
    },
    {
      "cell_type": "code",
      "metadata": {
        "id": "Eg12INpKFqSn",
        "colab_type": "code",
        "colab": {}
      },
      "source": [
        "av_price_proportion[\"Rentabilidad\"]=(1-av_price_proportion[\"Proportion_free_paid\"])*av_price_proportion[\"AV_Price\"]"
      ],
      "execution_count": 0,
      "outputs": []
    },
    {
      "cell_type": "code",
      "metadata": {
        "id": "er6Tz3IcGEDX",
        "colab_type": "code",
        "colab": {
          "base_uri": "https://localhost:8080/",
          "height": 80
        },
        "outputId": "a5f788fd-67fd-46a6-bf0b-94c39b4932a0"
      },
      "source": [
        "av_price_proportion[av_price_proportion[\"Rentabilidad\"]==av_price_proportion[\"Rentabilidad\"].max()]"
      ],
      "execution_count": 93,
      "outputs": [
        {
          "output_type": "execute_result",
          "data": {
            "text/html": [
              "<div>\n",
              "<style scoped>\n",
              "    .dataframe tbody tr th:only-of-type {\n",
              "        vertical-align: middle;\n",
              "    }\n",
              "\n",
              "    .dataframe tbody tr th {\n",
              "        vertical-align: top;\n",
              "    }\n",
              "\n",
              "    .dataframe thead th {\n",
              "        text-align: right;\n",
              "    }\n",
              "</style>\n",
              "<table border=\"1\" class=\"dataframe\">\n",
              "  <thead>\n",
              "    <tr style=\"text-align: right;\">\n",
              "      <th></th>\n",
              "      <th>AV_Price</th>\n",
              "      <th>Paid</th>\n",
              "      <th>Free</th>\n",
              "      <th>Proportion_free_paid</th>\n",
              "      <th>Rentabilidad</th>\n",
              "    </tr>\n",
              "  </thead>\n",
              "  <tbody>\n",
              "    <tr>\n",
              "      <th>Medical</th>\n",
              "      <td>8.776087</td>\n",
              "      <td>23</td>\n",
              "      <td>8</td>\n",
              "      <td>0.347826</td>\n",
              "      <td>5.723535</td>\n",
              "    </tr>\n",
              "  </tbody>\n",
              "</table>\n",
              "</div>"
            ],
            "text/plain": [
              "         AV_Price  Paid  Free  Proportion_free_paid  Rentabilidad\n",
              "Medical  8.776087    23     8              0.347826      5.723535"
            ]
          },
          "metadata": {
            "tags": []
          },
          "execution_count": 93
        }
      ]
    },
    {
      "cell_type": "code",
      "metadata": {
        "id": "eTySz5cVGEyn",
        "colab_type": "code",
        "colab": {}
      },
      "source": [
        "##Para responder la pregunta anterior, se creó un a nueva columna llamada \"Rentabilidad\"\n",
        "##que funciona como un indicador de la proporción de apps de paga multiplicado por el \n",
        "##precio promedio, aunque para responder más a fondo necesitaríamos conocer los ingresos\n",
        "##por publicidad de las apps por publicidad así como descargas/compras a lo largo del tiempo\n",
        "##con los datos que tenemos sería interesante considerar categoría: \"Medical\""
      ],
      "execution_count": 0,
      "outputs": []
    }
  ]
}